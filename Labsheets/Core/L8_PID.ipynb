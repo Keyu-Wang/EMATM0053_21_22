{
  "nbformat": 4,
  "nbformat_minor": 0,
  "metadata": {
    "kernelspec": {
      "display_name": "Python 3",
      "language": "python",
      "name": "python3"
    },
    "language_info": {
      "codemirror_mode": {
        "name": "ipython",
        "version": 3
      },
      "file_extension": ".py",
      "mimetype": "text/x-python",
      "name": "python",
      "nbconvert_exporter": "python",
      "pygments_lexer": "ipython3",
      "version": "3.8.5"
    },
    "colab": {
      "name": "L8_PID.ipynb",
      "provenance": [],
      "toc_visible": true
    }
  },
  "cells": [
    {
      "cell_type": "markdown",
      "metadata": {
        "id": "yEraXg0AaqEW"
      },
      "source": [
        "# Lab 7: PID Control"
      ]
    },
    {
      "cell_type": "markdown",
      "metadata": {
        "id": "zLNNkbO4aqEY"
      },
      "source": [
        "In previous lab sheets we have developed the following understanding and functionality:\n",
        "- Familiarised with the Arduino IDE, Sketch files, uploading to the 3Pi+, and utilising the Serial interface\n",
        "- Implemented basic operation of the 3Pi+ motors, and encapsulated this within safe and confident function(s), and utilised a `class`.\n",
        "- Implemented basic read functionality of the 3 central IR Line sensors facing the work surface, and encapsulated this within function(s).\n",
        "- Explored the use of `millis()` to approximate task-scheduling on the 3Pi+.\n",
        "- Developed a bang-bang controller, using logic to control the robot.\n",
        "- Implement a calibration routine for the ground sensor.\n",
        "- Developed a weighted-measurement of the line sensors, calculated an `error signal`, and used a proportional controller to steer the robot to produce line-following behaviour. \n",
        "- Completed `interrupt service routine` code to count the number of encoder pulses as the wheels rotate.\n",
        "- Developed kinematics and odometry to track the robot position over time.  \n",
        "\n",
        "\n",
        "In this labsheet we will investigate a PID controller.  A PID controller can be used in multiple contexts in the line following challenge:\n",
        "- to control the speed of the wheel rotation, so that they become a more consistent and reliable subsystem.\n",
        "- to control the heading of the robot, with respect to line following.\n",
        "- to control the heading of the robot, with respect to $\\theta$ in kinematics, allowing for good straight-line travel.\n",
        "- to control the rotation of the robot, with respect to $\\theta$ in kinematics, in order to make precise turn motions.\n",
        "- to control the travel velocity of the robot, with respect to the distance from origin in kinematics, to allow the robot to return to home in a controlled manner. \n",
        "\n",
        "Whilst this may seem like a long list, the PID approach is quite general and you should find it relatively easy to re-apply the techinque into different contexts.  This is one of the strengths of PID control.  \n",
        "\n",
        "To work on PID, we will first implement a measure of rotation velocity of the 3Pi+ wheels.  With a measure of rotation velocity, we will then tune a PID controller step-by-step.\n"
      ]
    },
    {
      "cell_type": "markdown",
      "metadata": {
        "id": "CYZYZGyhsZ1U"
      },
      "source": [
        "<hr><br><br><br><br>"
      ]
    },
    {
      "cell_type": "markdown",
      "metadata": {
        "id": "zt7rmIKgc-bP"
      },
      "source": [
        "# Rotation Velocity Estimation\n",
        "\n",
        "In previous labsheets you have developed code to:\n",
        "- for various tasks, calculate a period of elapsed time, in milliseconds and microseconds, using `millis()` and `micros()`.\n",
        "- developed code to effect encoder counts, and to use encoder counts for kinematics.\n",
        "\n",
        "In this exercise both of these componenets will be used to estimate the rotation velocity of a wheel.  Recall that:\n",
        "<p align=\"center\">\n",
        "$v = d / \\Delta t$\n",
        "</p>\n",
        "\n",
        "Where $v$ is velocity, $d$ is distance, and $\\Delta t$ is the change in time.  \n",
        "\n",
        "On the 3Pi+ we actually have three reasonable locations to implement an estimation of rotation velocity:\n",
        "1. Within `loop()`, allowing for some variation of time elapsed $\\Delta t$ via `millis()` or `micros()`, and recording the difference in encoder counts as $d$.\n",
        "2. Within the encoder ISRs.  Here, $d$ would always equal 1, because the ISR activates with every rotation of the wheel.  $\\Delta t$ would need to be captured.\n",
        "3. Within a `Timer` ISR, where the `Timer` would be configured so that $\\Delta t$ could be fixed to a known period, and the change in encoder counts would be $d$.\n",
        "\n",
        "In the following exercise, we will adopt the `loop()` method because it is quick to implement and sufficient to complete the line following challenge.  The other two are left to your curiousity."
      ]
    },
    {
      "cell_type": "markdown",
      "metadata": {
        "id": "K9vX3fJHcNZg"
      },
      "source": [
        "## Exercise 1: Rotation Velocity Estimation\n",
        "\n",
        "**Decompose the problem:** In this exercise, follow the normal development of working with just 1 wheel to begin with, and then update your code for both wheels when it is appropriate.\n",
        "\n",
        "1. **Hypothesise:** What is a serious limitation of implementing the velocity estimate within the encoder ISR?  This is a tricky question!\n",
        "\n",
        "2. It is recommended to start a new sketch to keep your program as simple as possible.  Include your code to operate the `encoders`.  Once you get this working and refactor your code, you might want to merge it back in with your main software.\n",
        "  - Implement some `global variables` to track the change of encoder counts for each iteration of `loop()`.\n",
        "  - Implement some `global variables` to track the change of time per iteration of `loop()`.\n",
        "  - Implement a `global variable` to store an estimation of rotation velocity.\n",
        "\n",
        "3. Implement code within `loop()` to:\n",
        "  - Capture a change of encoder counts.  Remember to pay attention to your variable `data types`.\n",
        "  - It is not strictly necessary to convert the change in encoder counts to radians or mm, this is at your discretion.\n",
        "  - Capture the time elapsed between `loop()` iterations.\n",
        "  - Divide the change of encoder by the time elapsed.\n",
        "  - Store the result into your global rotation velocity variable.  Remember to think about a suitable `data type`.\n",
        "  - **Validate:** Use Serial to view your rotation velocity estimation.  You may see a very rough looking signal when you move the wheel by hand.  \n",
        "  - **Validate:** Use your motor command functions to see how the signal appears at different motor power settings.\n",
        "\n",
        "4. Either use `delay()` or `millis()` (within an `if()` statement) to investigate how the frequency of calculation this velocity estimate changes quality of the signal.\n",
        "  - **Hypothesise:** You may see a very spikey or scattered plot. What might be an underlying cause of this?\n",
        "\n",
        "5. **Refactor:** Before you move on to the second wheel, consider updating your code to either be contained within a `function` or within a `class`.\n",
        "\n",
        "6. Consider implementing a `low pass filter` for your velocity estimate signal.  This can be quickly and crudely achieved with the following code extract:\n",
        "  - **Hypothesise:** What is an immediately obvious disadvantage to a low pass filter as provided below?\n",
        "\n",
        "```c\n",
        "// An initialised valued\n",
        "float lpf = 0;\n",
        "float alpha = 0.2; // value between 0:1\n",
        "                   // how much weight to new readings?\n",
        "\n",
        "// Update low pass filter\n",
        "lpf = ( lpf * (1 - alpha ) ) + ( new_reading * alpha );\n",
        "\n",
        "```\n"
      ]
    },
    {
      "cell_type": "markdown",
      "metadata": {
        "id": "GkFszmZxscZM"
      },
      "source": [
        "# PID Control Overview\n",
        "\n",
        "\n",
        "In terms of our robot performance, PID is interesting because it may offer smoother control over the robot motion.  This can be achieved in two ways:\n",
        "1. Effective control of the wheels speeds.\n",
        "2. Effective control of the heading of the robot.\n",
        "\n",
        "In both cases, it is desirable that our robot does not have `jerk` in the motion - this is when the robot makes sudden and/or large changes in the motion.  For our small robot, rapid changes to wheel speed are likely to cause the wheels to slip on the surface.  From the last labsheet, we have been using the rotation of the wheels to estimate the robots `pose` (position and rotation).  Therefore, if the wheels slip on the surface, there will be encoder counts but the robot will not change it's `pose` in reality.  Within the line following challenge, wheel slip will severely effect the ability for your robot to complete the final objective, `return to home`.  \n",
        "\n",
        "In the above two use cases (wheel speed and heading), we can imagine that rapid changes to heading are likely to cause a dramatic change of required wheels speeds.  This is because the wheel speed will be responsible for orientating the robot to a new heading.  Therefore, it is desirable for our heading to change in a continuous manner (not sudden), just as it is desirable for wheel speed to change in a continuous manner.  \n",
        "\n",
        "PID will allow us to utilise a continuous control signal relative to some measurement of the system.  The measurement could come from:\n",
        "- kinematics, such as theta (rotation) or a point to travel to (x,y)\n",
        "- the position of the line under the robot\n",
        "- the speed of rotation of the wheels\n",
        "\n",
        "A nice example of PID being used for smooth motion control is the following video of an e-puck robot tracking a ball with a low-resolution camera: <a href=\"https://www.youtube.com/watch?v=Pga71leqf1A\">YouTube</a>.  Whilst not documented, it appears at least two PID controllers are being used:\n",
        "(1) tracking left to right position of ball, (2) tracking a set distance from the ball. \n",
        "\n",
        "\n",
        "\n",
        "\n",
        "<p align=\"center\">\n",
        "<img src=\"https://github.com/paulodowd/EMATM0053_21_22/blob/main/images/PID_Overview.png?raw=true\">\n",
        "</p>\n",
        "\n",
        "The above diagram illustrates the general form of a PID controller.  Outside of the blue-dotted box, we can see that a measurement from the system output, $y(t)$ is combined with a desired measurement, $r(t)$, to form the error signal, $e(t)$:\n",
        "\n",
        "> $e(t) = r(t) - y(t)$\n",
        "\n",
        "\n",
        "In a previous labsheet, you will have already implemented a `proportional controller` (P-controller) for line following, one of the three P, I and D elements inside the blue-dotted box.  The `integral` and `derivative` components were not investigated.  \n",
        "\n",
        "The P-Controller implementation allows us to address many parts of the above diagram:\n",
        "- the **`measurement`**, $y(t)$, was the output from the weighted-measurement calculation, which estimated the line position under the ground sensor in the range [ -1.0 : +1.0 ].\n",
        "- the **`demand`**, $r(t)$, was set to 0, because it was desired to have the line positioned central between the ground sensors, which equated to a measurement value of 0.  Sometimes `demand` is also known as `setpoint`.\n",
        "- the **`error signal`**, $e(t)$, meaning the difference between the measurement and the demand, was therefore $e(t) = 0 - y(t)$.\n",
        "- the **`feedback signal`**, $u(t)$, was calculated by multiplying the error signal by a maximum motor power.  This had the effect of proportionally scaling motor power with respect to the error.\n",
        "- therefore, the **`proportional gain`**, $K_{p}$, was set as the maximum motor power.  \n",
        "- the `process` box above was the motor and wheel subsystem of the 3Pi+ robot.  In receiving the feedback signal (`analogWrite()`), the system process was altered, and so the measurement of the line sensors was effected.\n",
        "\n",
        "We can make some interesting observations:\n",
        "- the `demand` and the `measurement` were of the same units, because the PID controller is aiming to minimise the `error signal` to 0.  \n",
        "- the `feedback signal`, $u(t)$, is of different units.  In the line following implementation, the feedback signal was an 8-bit value [0:255] sent to the Arduino function `analogWrite()` to send power to the motor.\n",
        "- the PID controller is therefore trying to match $r(t)$ and $y(t)$ by manipulating the feedback signal, $u(t)$.\n",
        "- the effect of the feedback signal $u(t)$ is to effect physical interaction of the robot with the environment, resulting in the new measurement $y(t)$.\n",
        "\n",
        "In general terms, we can consider the PID controller as acting to transform the error signal into a feedback signal.  The question for a PID controller designer is:\n",
        "> How can the error signal be usefully transformed into a feedback signal?\n",
        "\n",
        "In the above diagram we also see the identities $K_{p}$, $K_{i}$ and $K_{d}$.  These are the system `gains`, numerical constants used to manipulate the error signal.  These are the internal parts of the PID algorithm that require a human designer to `tune` (calibrate), to create the useful transformation of error signal to feedback signal.  \n",
        "\n",
        "The `proportional` component gain, $K_{p}$, is the easiest to gain to consider.  $K_{p}$ simply multiplies with error signal $e(t)$.  If this were a line on a graph, $K_{p}$ would effect the slope of the line.  Therefore, $K_{p}$ will effectively scale a given value of $e(t)$ to produce the feedback signal $u(t)$.\n",
        "\n",
        "\n"
      ]
    },
    {
      "cell_type": "markdown",
      "metadata": {
        "id": "PORIzb9tqGJQ"
      },
      "source": [
        "## Exercise 2: Implement a P-Controller\n",
        "\n",
        "1. Review and update the `pid.h` source file in the template provided on Github (<a href=\"https://github.com/paulodowd/EMATM0053_21_22/tree/main/3PI_CodeStub\">Github Page</a>, <a href=\"https://github.com/paulodowd/EMATM0053_21_22/raw/main/3PI_CodeStub/Labsheet_X.zip\">Download Link for Zip file</a>):\n",
        "  - Implement variables within the class to store the `p_term`, and the `feedback signal`.\n",
        "  - Utilise an `initialise()` function to set the class variables to 0.\n",
        "  - Utilise the `update()` function to implement the P-Controller update:\n",
        "    - Implement the `error signal` calculation, $e(t) = r(t) - y(t)$.\n",
        "    - Implement the `p-term`, of the form $ p = K_{p} * e $\n",
        "    - Return the `p-term` as the feedback signal.\n",
        "  -\n"
      ]
    },
    {
      "cell_type": "markdown",
      "metadata": {
        "id": "DMxt2UlzaqEZ"
      },
      "source": [
        "<hr><br><br><br><br>"
      ]
    },
    {
      "cell_type": "markdown",
      "metadata": {
        "id": "J5V4aDUokR2f"
      },
      "source": [
        "<hr>\n",
        "# Recommended Reading\n",
        "\n",
        "Quantisation Error: <a href=\"\">DSP Guide for Engineers Chapter 3.</a>"
      ]
    },
    {
      "cell_type": "markdown",
      "metadata": {
        "id": "1WZwvJOiaqEa"
      },
      "source": [
        "# Concerning PID Controllers:\n",
        "\n",
        "A PID controller can be used to control all sorts of systems.  For instance, the temperature of a room: \n",
        "- the **measurement** would be the sensed room temperature.\n",
        "- the **output** would be a heating element, to effect the temperature of the room.\n",
        "- the **demand** input would be the user temperature control on the wall.\n",
        "\n",
        "Therefore the operation of a PID controller can be described in natural language as:\n",
        "- **measuring** the temperature of the room\n",
        "- attempting to match the measurement to the user **demand** (e.g., what is the difference, the **error**)\n",
        "- adjusting the **output** heating element _appropriately_ to be hotter or cooler, to raise or lower the temperature of the room.\n",
        "\n",
        "It is important to note that the measurement, output and demand can each be of different units and of different scales:\n",
        "- The user demand might be in Celcius in 1 degree increments in the range [5 : 30].\n",
        "- The measurement might be a 12-bit digital value from a linear temperature sensor\n",
        "- The output might be a high electical-current to drive a non-linear industrial heater working in kilo-Watts.  \n",
        "\n",
        "Therefore, a PID controller must map a **relationship** between demand, output and measurement (e.g., room gets too hot -> heater must get cooler).  Furthermore, there is a necessary **transformation** that must occur between:\n",
        "- making a comparison between measurement and demand to determine the **error signal**\n",
        "- transforming the error signal to correct the **output**.\n",
        "\n",
        "In the above example of maintaining the temperature of a room, we would need to transform a **small error signal** (between a temperature sensor and user demand), to a **large voltage** for a kilo-Watt heater.  For controlling the motor on the Romi, we start with an **encoder count** (`unsigned long`), and we must transform this into an **analogWrite()** (`[0:255]`).  Every system will:\n",
        "- have a different processing of demand, measurement, error signal and output.\n",
        "- the relationship between demand and output will be different. \n",
        "- the transformation from error signal to output will be different.\n",
        "- the actual physical system will behave differently.\n",
        "\n",
        "The advantage of being 'unit agnostic' (different units on input and output) is that a PID controller can be used to provide closed-loop control between any input signal and output signal, so long as their is a strong causal relationship.  Therefore, you may later use another PID controller to minimise the error of other system state variables.  It is likely that you will use the output of one PID controller as the demand signal for another PID controller (called, nested control).\n",
        "\n",
        "Whilst it is good that a PID controller can be 'unit agnostic', there is a clear drawback.  Every PID controller requires careful implementation and calibration.  PID controllers have a reputation for being annoying to work with because there are plenty of parts to go wrong.  When they go wrong, they tend to oscillate or exhibit chaotic, hard to understand behaviour.  Therefore, it is important to only take small steps and make small changes.  It is important to approach implementing a PID controller in a methodical way - a way which builds up complexity and removes as many errors and oversights as possible.\n",
        "\n",
        "### Step 1: Check your Error Signal\n",
        "\n",
        "The first task is to determine and check an error signal (demand vs measurement):\n",
        " - Check the error signal looks sensible, for example:\n",
        "     - what are you measuring, what is a sensible range of values?\n",
        "     - does it go both positive and negative?\n",
        "     - does positive and negative make sense (e.g. correlates to forward and backward?)\n",
        "     - is the error signal stable?\n",
        "\n",
        "### Step 2: Tuning your PID\n",
        "\n",
        "A PID controller is going to take your **error signal** and transform it into a meaningful **output signal** to drive your system.  To create this transformation, a PID controller must be **calibrated**, or **tuned**.   You may find tuning a PID controller difficult.  You should find a lecture to help guide you in this process.  You may arrive at a controller which does not use all terms (P, I and D) - such as a PD controller, or just a P controller - it depends on your task requirements.\n",
        "\n",
        "The transformation of error signal to output signal is created by setting the **P, I and D gains**.  It is best to work with one gain at a time.  Simply put:\n",
        "- **P-gain** multiplies (or divides) the error signal to produce the output signal, and it is the first gain you should set.  It is the most straight forward mapping of error signal to output signal.  \n",
        "    - You can think  of the P-Gain as an aggressive response (a shunt) to try to \"jump\" the output signal to correct for error.  When the error decreases, so will the effect of the P-Gain.  If the error is 0, your P-Gain will multiple out to 0 as well.  Therefore, P-Gain has less influence on your system in low-error conditions.\n",
        "    - It is unlikely that you will find a perfect p-gain value.  Generally, it is better for your system to undershoot, rather than overshoot.  \n",
        "        - Overshoot can quickly become oscillation.  Trying to fix this with D-Gain will only create worse oscillations.  \n",
        "        - Undershoot results in a steady state error, which can be fixed with I-Gain.\n",
        "- **D-gain** compensates the P-gain, by producing an effect based on the rate-of-change.  You may notice your P-gain causes overshoot, and the D-gain can help to counteract this.\n",
        "    - You can think of the P-Gain as acting like a dampening spring which resists sudden movement.\n",
        "    - Don't use D-Gain to try to fix persistent oscillation, this is not it's purpose.  It will only cause more oscillation.\n",
        "    - Only use D-Gain to attempt to \"smooth\" the response of your system under significant changes in the demand.\n",
        "- **I-gain** adds to the output signal when an error signal is sustained over time.  It effectively 'accumulates' error if the target has not been reached quickly enough.  The I-gain is normally the most sensitive, and therefore has a very small gain-value.  It is best to experiment with the I-gain last.  \n",
        "    - You can think of the I-Gain as a gentle persistent force to correct for an error signal that has not been fixed by the P-Gain.  \n",
        "    - However, when I-Gain goes wrong, it is the opposite of gentle!\n",
        "\n",
        "To tune your PID controller, you need to actually work with the physical system to: \n",
        "- understand how it behaves (often, the behaviour, or relationship, is non-linear).\n",
        "- understand the characteristics of measurement, demand, error signal and output.\n",
        "\n",
        "Completing the tasks in the previous labsheets should have helped you to gain an understanding some of the complexity of the performance of your Romi.  For instance, you might already be aware that your left motor is slower than your right motor (or vice-versa) when given the same power.  Each Romi will be slightly different.  \n",
        "\n",
        "### Important Questions to Consider\n",
        "\n",
        "You should approach tuning your PID controller with patience and a step-by-step process.  Work on one motor at a time.  Use the Serial Plotter to inspect the various calculations.  Tuning your PID controllers well will really help the overall performance of your system.\n",
        "\n",
        "When implementing a PID controller we must first ask:\n",
        "- Is there a relationship between error signal (demand vs measurement) and output?\n",
        "\n",
        "If the answer is yes, then your system may be able to regulate itself.   However, we must then ask or investigate the following question:\n",
        "- What are the characteristics of demand, measurement, error signal, and output?\n",
        "    - Think about this question carefully, sketch down some graphs you'd expect to see.\n",
        "    - Make sure you understand what a given error signal should be transformed into (by a gain value) to produce a useful output signal.\n",
        "        - For example, if you observe your error signal on the Serial Monitor (or plotter), work out what P-Gain value would produce a useful output (analogWrite needs a value between 0 : 255 ).\n",
        "    - Make sure you report useful information back using `Serial.print()`, and make sure you can understand what you are observing.\n",
        "    - Work with one gain at a time, and make sure the relationship is as you would expect.\n",
        "    - You can get strange, half-working performance if your error signal is inverted.\n"
      ]
    }
  ]
}