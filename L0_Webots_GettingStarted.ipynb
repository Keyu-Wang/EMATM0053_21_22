{
  "nbformat": 4,
  "nbformat_minor": 0,
  "metadata": {
    "colab": {
      "name": "L0_Webots_GettingStarted",
      "provenance": [],
      "collapsed_sections": [],
      "toc_visible": true,
      "authorship_tag": "ABX9TyP5aPBOdMCxHlUKDd7Inyya",
      "include_colab_link": true
    },
    "kernelspec": {
      "name": "python3",
      "display_name": "Python 3"
    },
    "language_info": {
      "name": "python"
    }
  },
  "cells": [
    {
      "cell_type": "markdown",
      "metadata": {
        "id": "view-in-github",
        "colab_type": "text"
      },
      "source": [
        "<a href=\"https://colab.research.google.com/github/paulodowd/EMATM0053_21_22/blob/main/L0_Webots_GettingStarted.ipynb\" target=\"_parent\"><img src=\"https://colab.research.google.com/assets/colab-badge.svg\" alt=\"Open In Colab\"/></a>"
      ]
    },
    {
      "cell_type": "markdown",
      "metadata": {
        "id": "HRpqHzQDveYx"
      },
      "source": [
        "# Labsheet 0: Webots, Getting Started\n",
        "\n",
        "In this labsheet we will:\n",
        "- Install Webots.\n",
        "- Test the installation by opening a built-in Demo.\n",
        "- Make a copy of the Demo to begin our own work.\n",
        "- Configure the new project for these Labsheet exercises.\n",
        "- Explore some simple `C Programming` concepts.\n",
        "\n",
        "This labsheet is supported with a recorded lecture available to you via the Blackboard unit page.  \n",
        "\n",
        "<br>\n",
        "<p align=\"center\">\n",
        "<img src=\"https://github.com/paulodowd/EMATM0053_21_22/blob/main/images/Webots_ArenaFloor.png?raw=true\">\n",
        "</p>\n",
        "<br><br>\n",
        "\n",
        "\n",
        "\n",
        "\n",
        "\n"
      ]
    },
    {
      "cell_type": "markdown",
      "metadata": {
        "id": "wLZs6c0Wyq8n"
      },
      "source": [
        "## Installing Webots\n",
        "\n",
        "Webots is a free, open-source robotics simulator.  We will be using Webots to practice some robotics programming concepts, and later you will may use Webots as the basis of conducting your own robotics experiment.  \n",
        "\n",
        "You can find, download and install Webots from the following URL:\n",
        "\n",
        "<a href=\"https://cyberbotics.com/#download\">Download Webots</a>"
      ]
    },
    {
      "cell_type": "markdown",
      "metadata": {
        "id": "t9cML6TAv8Rj"
      },
      "source": [
        "## Loading a Demo\n",
        "\n",
        "In this section we will load a Demo built in within Webots.  In the future, loading a built in Demo is a good way to get started on your own projects.\n",
        "\n",
        "1) Load the Webots application on your computer.  \n",
        "\n",
        "2) Select `File -> Open Sample World..` \n",
        "\n",
        "3) You should be presented with a new dialogue window like the following. Expand the menus `gctronic -> e-puck` and then open the file `e-puck_line_demo.wbt`:\n",
        "\n",
        "<p align=\"center\">\n",
        "<img src=\"https://github.com/paulodowd/EMATM0053_21_22/blob/main/images/Webots_SampleWorldDialogue.png?raw=true\">\n",
        "</p>\n",
        "\n",
        "<br><br>\n",
        "4) You should now be able to see the Webots User Interface which will look similar to the below:\n",
        "<p align=\"center\">\n",
        "<img src=\"https://github.com/paulodowd/EMATM0053_21_22/blob/main/images/Webots_UI.png?raw=true\">\n",
        "</p>\n",
        "\n",
        "<br><br>\n",
        "5) To test the simulator, press the play icon in the top toolbar of the inteface.  You should see the small robot move and follow the line.\n",
        "\n",
        "6) At this point, you may wish to click on the visualisation and explore how to operate the visual scene.  You could also explore the control icons in the top toolbar to reset the simulation.  \n",
        "\n",
        "7) At this point, you may wish to explore the settings and options for Webots to configure the simulator for your system.  In particular, if your computer has poor performance, you can decrease the graphical settings of the simulator by navigating to `Tools -> Preferences -> OpenGL`, to see the following dialogue:\n",
        "\n",
        "<p align=\"center\">\n",
        "<img src=\"https://github.com/paulodowd/EMATM0053_21_22/blob/main/images/Webots_Settings.png?raw=true\">\n",
        "</p>\n",
        "\n",
        "To improve performance:\n",
        "- set the options to `Low` or `Disabled` where appropriate.\n",
        "- set Max Texture Filtering to 0\n",
        "- tick the boxes to `disable shadows` and `disable anti-aliasing`\n"
      ]
    },
    {
      "cell_type": "markdown",
      "metadata": {
        "id": "xIKpZN4e0VX8"
      },
      "source": [
        "## Copying A Demo to Start a New Project.\n",
        "\n",
        "The following steps describe how to save a Demo into a new folder, and then import some existing controller code.  This will make a good place to start your own project.\n",
        "\n",
        "1) Follow the steps in the previous section to open the `e-puck_line_demo.wbt` file.\n",
        "\n",
        "2) Click the icon in the top toolbar to `Build the current project`.  Your user interface should look similar to the extract below, and the cursor is positioned over the `Build the current project` icon.  \n",
        "\n",
        "<p align=\"center\">\n",
        "<img src=\"https://github.com/paulodowd/EMATM0053_21_22/blob/main/images/Webots_BuildCurrent.png?raw=true\">\n",
        "</p>\n",
        "\n",
        "3) You should be asked the following question from Webots, click `OK`:\n",
        "\n",
        "<p align=\"center\">\n",
        "<img src=\"https://github.com/paulodowd/EMATM0053_21_22/blob/main/images/Webots_Question.png?raw=true\">\n",
        "</p>\n",
        "\n",
        "4) Use the below dialogue to select a destination folder for your new Project.  It is recommended that you create a new folder for each Labsheet, repeating these steps to copy a demo project.  This way you can go back to previous work.  You do not need to enable the copy of `PROTO files` or `plugins files`:\n",
        "\n",
        "<p align=\"center\">\n",
        "<img src=\"https://github.com/paulodowd/EMATM0053_21_22/blob/main/images/Webots_Relocate.png?raw=true\">\n",
        "</p>\n",
        "\n",
        "5) Close the dialogue box, and then attempt to use the icon in the top toolbar to `Build the current project`.  Once this has completed, press the play icon in the top toolbar to see the simulator robot move.  "
      ]
    },
    {
      "cell_type": "markdown",
      "metadata": {
        "id": "mh4SYV_z5Ojj"
      },
      "source": [
        "## Configuring the Project for the Labsheets\n",
        "\n",
        "In this section we will configure the project to complete the Labsheet exercises.  \n",
        "\n",
        "\n",
        "### Set Line Following Challenge Map\n",
        "\n",
        "1) In the left most pane, expand the list entries as per the graphic below: \n",
        "- `RectangleArena \"rectangle arena\"`\n",
        "- `floorAppearance PBRAppearance`\n",
        "- `baseColorMap ImageTexture`\n",
        "- `url`\n",
        "\n",
        "<p align=\"center\">\n",
        "<img src=\"https://github.com/paulodowd/EMATM0053_21_22/blob/main/images/Webots_RectangleArena.png?raw=true\">\n",
        "</p>\n",
        "\n",
        "2) Download the Labsheets line following challenge map from github, <a href=\"https://github.com/paulodowd/EMATM0053_21_22/blob/main/WebotsFloor/test_floor.png?raw=true\">available here</a> and save to a known location on your computer.\n",
        "\n",
        "3) Use the button `Select...` to navigate to and select the line following challenge map you just downloaded.  You should see the arena floor of the simulation change to look like the following:\n",
        "\n",
        "<p align=\"center\">\n",
        "<img src=\"https://github.com/paulodowd/EMATM0053_21_22/blob/main/images/Webots_ArenaFloor.png?raw=true\">\n",
        "</p>"
      ]
    },
    {
      "cell_type": "code",
      "metadata": {
        "id": "Xoz6R68JvYBP"
      },
      "source": [
        ""
      ],
      "execution_count": null,
      "outputs": []
    }
  ]
}